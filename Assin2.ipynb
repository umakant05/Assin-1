{
  "nbformat": 4,
  "nbformat_minor": 0,
  "metadata": {
    "colab": {
      "provenance": []
    },
    "kernelspec": {
      "name": "python3",
      "display_name": "Python 3"
    },
    "language_info": {
      "name": "python"
    }
  },
  "cells": [
    {
      "cell_type": "code",
      "source": [
        "a = 2"
      ],
      "metadata": {
        "id": "LwdWq8aeaSQt"
      },
      "execution_count": 5,
      "outputs": []
    },
    {
      "cell_type": "code",
      "source": [
        "b = 3"
      ],
      "metadata": {
        "id": "ZaEtWY2ibASw"
      },
      "execution_count": 6,
      "outputs": []
    },
    {
      "cell_type": "code",
      "source": [
        "print(a+b)"
      ],
      "metadata": {
        "colab": {
          "base_uri": "https://localhost:8080/"
        },
        "id": "S8OH0UzGbBqw",
        "outputId": "b50c6f96-9870-45dd-8a21-786bdac7fa67"
      },
      "execution_count": 8,
      "outputs": [
        {
          "output_type": "stream",
          "name": "stdout",
          "text": [
            "5\n"
          ]
        }
      ]
    },
    {
      "cell_type": "markdown",
      "source": [
        "What is decorator?\n",
        "\n",
        "Decorator"
      ],
      "metadata": {
        "id": "oiZ2PCBTbXDY"
      }
    },
    {
      "cell_type": "code",
      "source": [],
      "metadata": {
        "id": "imqBTUqcbG4M"
      },
      "execution_count": null,
      "outputs": []
    }
  ]
}