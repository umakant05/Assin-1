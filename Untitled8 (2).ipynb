{
  "nbformat": 4,
  "nbformat_minor": 0,
  "metadata": {
    "colab": {
      "provenance": []
    },
    "kernelspec": {
      "name": "python3",
      "display_name": "Python 3"
    },
    "language_info": {
      "name": "python"
    }
  },
  "cells": [
    {
      "cell_type": "code",
      "execution_count": 1,
      "metadata": {
        "colab": {
          "base_uri": "https://localhost:8080/"
        },
        "id": "1q2lE6bfPn52",
        "outputId": "c56ce473-49e8-4dfb-b96b-51880a627b3c"
      },
      "outputs": [
        {
          "output_type": "stream",
          "name": "stdout",
          "text": [
            "Hello world\n"
          ]
        }
      ],
      "source": [
        "print(\"Hello world\")"
      ]
    },
    {
      "cell_type": "markdown",
      "source": [
        "what is oops concept in python?\n",
        "\n",
        "pythone is a dynamic"
      ],
      "metadata": {
        "id": "5PgLFujXQkfN"
      }
    },
    {
      "cell_type": "code",
      "source": [],
      "metadata": {
        "id": "hXY_42nyRFLz"
      },
      "execution_count": null,
      "outputs": []
    }
  ]
}